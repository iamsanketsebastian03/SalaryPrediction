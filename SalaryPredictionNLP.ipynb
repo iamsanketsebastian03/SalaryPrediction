{
 "cells": [
  {
   "cell_type": "code",
   "execution_count": 1,
   "metadata": {},
   "outputs": [],
   "source": [
    "import os\n",
    "import pandas as pd\n",
    "os.chdir(\"C:/Users/Sanket/Downloads\")\n",
    "train = pd.read_csv(\"TrainDataset1.csv\")"
   ]
  },
  {
   "cell_type": "code",
   "execution_count": 2,
   "metadata": {},
   "outputs": [
    {
     "name": "stderr",
     "output_type": "stream",
     "text": [
      "C:\\Users\\Sanket\\Anaconda3\\lib\\site-packages\\ipykernel_launcher.py:11: SettingWithCopyWarning: \n",
      "A value is trying to be set on a copy of a slice from a DataFrame\n",
      "\n",
      "See the caveats in the documentation: http://pandas.pydata.org/pandas-docs/stable/indexing.html#indexing-view-versus-copy\n",
      "  # This is added back by InteractiveShellApp.init_path()\n",
      "C:\\Users\\Sanket\\Anaconda3\\lib\\site-packages\\ipykernel_launcher.py:12: SettingWithCopyWarning: \n",
      "A value is trying to be set on a copy of a slice from a DataFrame.\n",
      "Try using .loc[row_indexer,col_indexer] = value instead\n",
      "\n",
      "See the caveats in the documentation: http://pandas.pydata.org/pandas-docs/stable/indexing.html#indexing-view-versus-copy\n",
      "  if sys.path[0] == '':\n",
      "C:\\Users\\Sanket\\Anaconda3\\lib\\site-packages\\ipykernel_launcher.py:13: SettingWithCopyWarning: \n",
      "A value is trying to be set on a copy of a slice from a DataFrame.\n",
      "Try using .loc[row_indexer,col_indexer] = value instead\n",
      "\n",
      "See the caveats in the documentation: http://pandas.pydata.org/pandas-docs/stable/indexing.html#indexing-view-versus-copy\n",
      "  del sys.path[0]\n"
     ]
    }
   ],
   "source": [
    "train['Exp'] = train[\"experience\"].str.extract(\"(\\d*\\d.?\\d+)\", expand=True)\n",
    "train['Exp'] = train['Exp'].str.split('-')\n",
    "train[['start','end']] = pd.DataFrame(train.Exp.values.tolist())\n",
    "train['Avg_Exp'] = train[['start','end']].astype(float).mean(axis=1)\n",
    "train['Salary'] = train['salary'].str.split('to')\n",
    "train[['sal_start','sal_end']] = pd.DataFrame(train.Salary.values.tolist())\n",
    "train['Avg_Salary'] = train[['sal_start','sal_end']].astype(float).mean(axis=1)\n",
    "\n",
    "X = train[['job_desig', 'key_skills', 'City coded', 'Avg_Exp', 'Avg_Salary','company_name_encoded']]\n",
    "\n",
    "X.dropna(subset=['key_skills'], inplace=True)\n",
    "X['Avg_Exp'] = X['Avg_Exp'].astype(int)\n",
    "X['Avg_Salary'] = X['Avg_Salary'].astype(int)"
   ]
  },
  {
   "cell_type": "code",
   "execution_count": 3,
   "metadata": {},
   "outputs": [
    {
     "data": {
      "text/html": [
       "<div>\n",
       "<style scoped>\n",
       "    .dataframe tbody tr th:only-of-type {\n",
       "        vertical-align: middle;\n",
       "    }\n",
       "\n",
       "    .dataframe tbody tr th {\n",
       "        vertical-align: top;\n",
       "    }\n",
       "\n",
       "    .dataframe thead th {\n",
       "        text-align: right;\n",
       "    }\n",
       "</style>\n",
       "<table border=\"1\" class=\"dataframe\">\n",
       "  <thead>\n",
       "    <tr style=\"text-align: right;\">\n",
       "      <th></th>\n",
       "      <th>job_desig</th>\n",
       "      <th>key_skills</th>\n",
       "      <th>City coded</th>\n",
       "      <th>Avg_Exp</th>\n",
       "      <th>Avg_Salary</th>\n",
       "      <th>company_name_encoded</th>\n",
       "    </tr>\n",
       "  </thead>\n",
       "  <tbody>\n",
       "    <tr>\n",
       "      <th>0</th>\n",
       "      <td>Senior Exploit and Vulnerability Researcher</td>\n",
       "      <td>team skills, communication skills, analytical ...</td>\n",
       "      <td>Delhi NCR</td>\n",
       "      <td>6</td>\n",
       "      <td>8</td>\n",
       "      <td>3687</td>\n",
       "    </tr>\n",
       "    <tr>\n",
       "      <th>1</th>\n",
       "      <td>Head SCM</td>\n",
       "      <td>ppc, logistics, inventory management, supply c...</td>\n",
       "      <td>Tier 2</td>\n",
       "      <td>13</td>\n",
       "      <td>12</td>\n",
       "      <td>458</td>\n",
       "    </tr>\n",
       "    <tr>\n",
       "      <th>2</th>\n",
       "      <td>Deputy Manager - Talent Management &amp; Leadershi...</td>\n",
       "      <td>HR Analytics, Employee Engagement, Training, S...</td>\n",
       "      <td>Delhi NCR</td>\n",
       "      <td>7</td>\n",
       "      <td>20</td>\n",
       "      <td>4195</td>\n",
       "    </tr>\n",
       "    <tr>\n",
       "      <th>3</th>\n",
       "      <td>Associate Manager Data Engineering</td>\n",
       "      <td>SQL, Javascript, Automation, Python, Ruby, Ana...</td>\n",
       "      <td>Bengaluru</td>\n",
       "      <td>8</td>\n",
       "      <td>12</td>\n",
       "      <td>313</td>\n",
       "    </tr>\n",
       "    <tr>\n",
       "      <th>4</th>\n",
       "      <td>TS- GSA- Senior Analyst</td>\n",
       "      <td>accounting, finance, cash flow, financial plan...</td>\n",
       "      <td>Delhi NCR</td>\n",
       "      <td>2</td>\n",
       "      <td>4</td>\n",
       "      <td>1305</td>\n",
       "    </tr>\n",
       "  </tbody>\n",
       "</table>\n",
       "</div>"
      ],
      "text/plain": [
       "                                           job_desig  \\\n",
       "0        Senior Exploit and Vulnerability Researcher   \n",
       "1                                           Head SCM   \n",
       "2  Deputy Manager - Talent Management & Leadershi...   \n",
       "3                 Associate Manager Data Engineering   \n",
       "4                            TS- GSA- Senior Analyst   \n",
       "\n",
       "                                          key_skills City coded  Avg_Exp  \\\n",
       "0  team skills, communication skills, analytical ...  Delhi NCR        6   \n",
       "1  ppc, logistics, inventory management, supply c...     Tier 2       13   \n",
       "2  HR Analytics, Employee Engagement, Training, S...  Delhi NCR        7   \n",
       "3  SQL, Javascript, Automation, Python, Ruby, Ana...  Bengaluru        8   \n",
       "4  accounting, finance, cash flow, financial plan...  Delhi NCR        2   \n",
       "\n",
       "   Avg_Salary  company_name_encoded  \n",
       "0           8                  3687  \n",
       "1          12                   458  \n",
       "2          20                  4195  \n",
       "3          12                   313  \n",
       "4           4                  1305  "
      ]
     },
     "execution_count": 3,
     "metadata": {},
     "output_type": "execute_result"
    }
   ],
   "source": [
    "X.head()"
   ]
  },
  {
   "cell_type": "code",
   "execution_count": 4,
   "metadata": {},
   "outputs": [],
   "source": [
    "import time\n",
    "import numpy as np\n",
    "import pandas as pd\n",
    "import matplotlib.pyplot as plt\n",
    "import seaborn as sns\n",
    "from scipy.sparse import csr_matrix, hstack\n",
    "from sklearn.feature_extraction.text import CountVectorizer, TfidfVectorizer\n",
    "from sklearn.preprocessing import LabelBinarizer"
   ]
  },
  {
   "cell_type": "code",
   "execution_count": 5,
   "metadata": {},
   "outputs": [
    {
     "name": "stderr",
     "output_type": "stream",
     "text": [
      "C:\\Users\\Sanket\\Anaconda3\\lib\\site-packages\\pandas\\core\\generic.py:4405: SettingWithCopyWarning: \n",
      "A value is trying to be set on a copy of a slice from a DataFrame.\n",
      "Try using .loc[row_indexer,col_indexer] = value instead\n",
      "\n",
      "See the caveats in the documentation: http://pandas.pydata.org/pandas-docs/stable/indexing.html#indexing-view-versus-copy\n",
      "  self[name] = value\n",
      "C:\\Users\\Sanket\\Anaconda3\\lib\\site-packages\\ipykernel_launcher.py:4: SettingWithCopyWarning: \n",
      "A value is trying to be set on a copy of a slice from a DataFrame.\n",
      "Try using .loc[row_indexer,col_indexer] = value instead\n",
      "\n",
      "See the caveats in the documentation: http://pandas.pydata.org/pandas-docs/stable/indexing.html#indexing-view-versus-copy\n",
      "  after removing the cwd from sys.path.\n"
     ]
    },
    {
     "data": {
      "text/html": [
       "<div>\n",
       "<style scoped>\n",
       "    .dataframe tbody tr th:only-of-type {\n",
       "        vertical-align: middle;\n",
       "    }\n",
       "\n",
       "    .dataframe tbody tr th {\n",
       "        vertical-align: top;\n",
       "    }\n",
       "\n",
       "    .dataframe thead th {\n",
       "        text-align: right;\n",
       "    }\n",
       "</style>\n",
       "<table border=\"1\" class=\"dataframe\">\n",
       "  <thead>\n",
       "    <tr style=\"text-align: right;\">\n",
       "      <th></th>\n",
       "      <th>job_desig</th>\n",
       "      <th>key_skills</th>\n",
       "      <th>Avg_Salary</th>\n",
       "      <th>count</th>\n",
       "    </tr>\n",
       "  </thead>\n",
       "  <tbody>\n",
       "    <tr>\n",
       "      <th>0</th>\n",
       "      <td>Senior Exploit and Vulnerability Researcher</td>\n",
       "      <td>team skills, communication skills, analytical ...</td>\n",
       "      <td>8</td>\n",
       "      <td>43</td>\n",
       "    </tr>\n",
       "    <tr>\n",
       "      <th>1</th>\n",
       "      <td>Head SCM</td>\n",
       "      <td>ppc, logistics, inventory management, supply c...</td>\n",
       "      <td>12</td>\n",
       "      <td>8</td>\n",
       "    </tr>\n",
       "    <tr>\n",
       "      <th>2</th>\n",
       "      <td>Deputy Manager - Talent Management &amp; Leadershi...</td>\n",
       "      <td>HR Analytics, Employee Engagement, Training, S...</td>\n",
       "      <td>20</td>\n",
       "      <td>66</td>\n",
       "    </tr>\n",
       "    <tr>\n",
       "      <th>3</th>\n",
       "      <td>Associate Manager Data Engineering</td>\n",
       "      <td>SQL, Javascript, Automation, Python, Ruby, Ana...</td>\n",
       "      <td>12</td>\n",
       "      <td>34</td>\n",
       "    </tr>\n",
       "    <tr>\n",
       "      <th>4</th>\n",
       "      <td>TS- GSA- Senior Analyst</td>\n",
       "      <td>accounting, finance, cash flow, financial plan...</td>\n",
       "      <td>4</td>\n",
       "      <td>23</td>\n",
       "    </tr>\n",
       "  </tbody>\n",
       "</table>\n",
       "</div>"
      ],
      "text/plain": [
       "                                           job_desig  \\\n",
       "0        Senior Exploit and Vulnerability Researcher   \n",
       "1                                           Head SCM   \n",
       "2  Deputy Manager - Talent Management & Leadershi...   \n",
       "3                 Associate Manager Data Engineering   \n",
       "4                            TS- GSA- Senior Analyst   \n",
       "\n",
       "                                          key_skills  Avg_Salary  count  \n",
       "0  team skills, communication skills, analytical ...           8     43  \n",
       "1  ppc, logistics, inventory management, supply c...          12      8  \n",
       "2  HR Analytics, Employee Engagement, Training, S...          20     66  \n",
       "3  SQL, Javascript, Automation, Python, Ruby, Ana...          12     34  \n",
       "4  accounting, finance, cash flow, financial plan...           4     23  "
      ]
     },
     "execution_count": 5,
     "metadata": {},
     "output_type": "execute_result"
    }
   ],
   "source": [
    "X.job_desig = X.job_desig.astype(str)\n",
    "\n",
    "descr = X[['job_desig','key_skills', 'Avg_Salary']]\n",
    "descr['count'] = descr['job_desig'].apply(lambda x : len(str(x)))\n",
    "descr.head()"
   ]
  },
  {
   "cell_type": "code",
   "execution_count": 6,
   "metadata": {},
   "outputs": [
    {
     "name": "stderr",
     "output_type": "stream",
     "text": [
      "C:\\Users\\Sanket\\Anaconda3\\lib\\site-packages\\scipy\\stats\\stats.py:1713: FutureWarning: Using a non-tuple sequence for multidimensional indexing is deprecated; use `arr[tuple(seq)]` instead of `arr[seq]`. In the future this will be interpreted as an array index, `arr[np.array(seq)]`, which will result either in an error or a different result.\n",
      "  return np.add.reduce(sorted[indexer] * weights, axis=axis) / sumval\n"
     ]
    },
    {
     "data": {
      "image/png": "[encoded data removed]",
      "text/plain": [
       "<Figure size 432x288 with 1 Axes>"
      ]
     },
     "metadata": {
      "needs_background": "light"
     },
     "output_type": "display_data"
    }
   ],
   "source": [
    "df = descr.groupby('count')['Avg_Salary'].mean().reset_index()\n",
    "sns.regplot(x=df[\"count\"], y=(df[\"Avg_Salary\"]))\n",
    "plt.xlabel(\"word count\")\n",
    "plt.show()"
   ]
  },
  {
   "cell_type": "code",
   "execution_count": 7,
   "metadata": {},
   "outputs": [
    {
     "data": {
      "text/plain": [
       "[('!', ''),\n",
       " ('\"', ''),\n",
       " ('#', ''),\n",
       " ('$', ''),\n",
       " ('%', ''),\n",
       " ('&', ''),\n",
       " (\"'\", ''),\n",
       " ('(', ''),\n",
       " (')', ''),\n",
       " ('*', ''),\n",
       " ('+', ''),\n",
       " (',', ''),\n",
       " ('-', ''),\n",
       " ('.', ''),\n",
       " ('/', ''),\n",
       " (':', ''),\n",
       " (';', ''),\n",
       " ('<', ''),\n",
       " ('=', ''),\n",
       " ('>', ''),\n",
       " ('?', ''),\n",
       " ('@', ''),\n",
       " ('[', ''),\n",
       " ('\\\\', ''),\n",
       " (']', ''),\n",
       " ('^', ''),\n",
       " ('_', ''),\n",
       " ('`', ''),\n",
       " ('{', ''),\n",
       " ('|', ''),\n",
       " ('}', ''),\n",
       " ('~', '')]"
      ]
     },
     "execution_count": 7,
     "metadata": {},
     "output_type": "execute_result"
    }
   ],
   "source": [
    "from string import punctuation\n",
    "punctuation\n",
    "# Create a list of punctuation replacements\n",
    "punctuation_symbols = []\n",
    "for symbol in punctuation:\n",
    "    punctuation_symbols.append((symbol, ''))\n",
    "    \n",
    "punctuation_symbols"
   ]
  },
  {
   "cell_type": "code",
   "execution_count": 8,
   "metadata": {},
   "outputs": [
    {
     "name": "stderr",
     "output_type": "stream",
     "text": [
      "[nltk_data] Downloading package stopwords to\n",
      "[nltk_data]     C:\\Users\\Sanket\\AppData\\Roaming\\nltk_data...\n",
      "[nltk_data]   Package stopwords is already up-to-date!\n"
     ]
    }
   ],
   "source": [
    "# Examine list of stop words\n",
    "import nltk\n",
    "nltk.download('stopwords')\n",
    "from nltk.corpus import stopwords\n",
    "stop = stopwords.words('english')"
   ]
  },
  {
   "cell_type": "code",
   "execution_count": 9,
   "metadata": {},
   "outputs": [],
   "source": [
    "import string\n",
    "\n",
    "# Create a function to remove punctuations\n",
    "def remove_punctuation(sentence: str) -> str:\n",
    "    return sentence.translate(str.maketrans('', '', string.punctuation))\n",
    "\n",
    "# Create a function to remove stop words\n",
    "def remove_stop_words(x):\n",
    "    x = ' '.join([i for i in x.lower().split(' ') if i not in stop])\n",
    "    return x\n",
    "\n",
    "# Create a function to lowercase the words\n",
    "def to_lower(x):\n",
    "    return x.lower()"
   ]
  },
  {
   "cell_type": "code",
   "execution_count": 10,
   "metadata": {},
   "outputs": [
    {
     "name": "stderr",
     "output_type": "stream",
     "text": [
      "C:\\Users\\Sanket\\Anaconda3\\lib\\site-packages\\ipykernel_launcher.py:4: SettingWithCopyWarning: \n",
      "A value is trying to be set on a copy of a slice from a DataFrame.\n",
      "Try using .loc[row_indexer,col_indexer] = value instead\n",
      "\n",
      "See the caveats in the documentation: http://pandas.pydata.org/pandas-docs/stable/indexing.html#indexing-view-versus-copy\n",
      "  after removing the cwd from sys.path.\n",
      "C:\\Users\\Sanket\\Anaconda3\\lib\\site-packages\\ipykernel_launcher.py:6: SettingWithCopyWarning: \n",
      "A value is trying to be set on a copy of a slice from a DataFrame.\n",
      "Try using .loc[row_indexer,col_indexer] = value instead\n",
      "\n",
      "See the caveats in the documentation: http://pandas.pydata.org/pandas-docs/stable/indexing.html#indexing-view-versus-copy\n",
      "  \n",
      "C:\\Users\\Sanket\\Anaconda3\\lib\\site-packages\\ipykernel_launcher.py:7: SettingWithCopyWarning: \n",
      "A value is trying to be set on a copy of a slice from a DataFrame.\n",
      "Try using .loc[row_indexer,col_indexer] = value instead\n",
      "\n",
      "See the caveats in the documentation: http://pandas.pydata.org/pandas-docs/stable/indexing.html#indexing-view-versus-copy\n",
      "  import sys\n",
      "C:\\Users\\Sanket\\Anaconda3\\lib\\site-packages\\ipykernel_launcher.py:8: SettingWithCopyWarning: \n",
      "A value is trying to be set on a copy of a slice from a DataFrame.\n",
      "Try using .loc[row_indexer,col_indexer] = value instead\n",
      "\n",
      "See the caveats in the documentation: http://pandas.pydata.org/pandas-docs/stable/indexing.html#indexing-view-versus-copy\n",
      "  \n",
      "C:\\Users\\Sanket\\Anaconda3\\lib\\site-packages\\ipykernel_launcher.py:10: SettingWithCopyWarning: \n",
      "A value is trying to be set on a copy of a slice from a DataFrame.\n",
      "Try using .loc[row_indexer,col_indexer] = value instead\n",
      "\n",
      "See the caveats in the documentation: http://pandas.pydata.org/pandas-docs/stable/indexing.html#indexing-view-versus-copy\n",
      "  # Remove the CWD from sys.path while we load stuff.\n",
      "C:\\Users\\Sanket\\Anaconda3\\lib\\site-packages\\ipykernel_launcher.py:11: SettingWithCopyWarning: \n",
      "A value is trying to be set on a copy of a slice from a DataFrame.\n",
      "Try using .loc[row_indexer,col_indexer] = value instead\n",
      "\n",
      "See the caveats in the documentation: http://pandas.pydata.org/pandas-docs/stable/indexing.html#indexing-view-versus-copy\n",
      "  # This is added back by InteractiveShellApp.init_path()\n",
      "C:\\Users\\Sanket\\Anaconda3\\lib\\site-packages\\ipykernel_launcher.py:12: SettingWithCopyWarning: \n",
      "A value is trying to be set on a copy of a slice from a DataFrame.\n",
      "Try using .loc[row_indexer,col_indexer] = value instead\n",
      "\n",
      "See the caveats in the documentation: http://pandas.pydata.org/pandas-docs/stable/indexing.html#indexing-view-versus-copy\n",
      "  if sys.path[0] == '':\n",
      "C:\\Users\\Sanket\\Anaconda3\\lib\\site-packages\\ipykernel_launcher.py:14: SettingWithCopyWarning: \n",
      "A value is trying to be set on a copy of a slice from a DataFrame.\n",
      "Try using .loc[row_indexer,col_indexer] = value instead\n",
      "\n",
      "See the caveats in the documentation: http://pandas.pydata.org/pandas-docs/stable/indexing.html#indexing-view-versus-copy\n",
      "  \n"
     ]
    }
   ],
   "source": [
    "# Stem the Words\n",
    "from nltk.stem.porter import PorterStemmer\n",
    "porter = PorterStemmer()\n",
    "X['job_desig'] = X['job_desig'].apply(porter.stem)\n",
    "\n",
    "X['job_desig'] = X['job_desig'].apply(remove_punctuation)\n",
    "X['job_desig'] = X['job_desig'].apply(remove_stop_words)\n",
    "X['job_desig'] = X['job_desig'].apply(to_lower)\n",
    "\n",
    "X['key_skills'] = X['key_skills'].apply(remove_punctuation)\n",
    "X['key_skills'] = X['key_skills'].apply(remove_stop_words)\n",
    "X['key_skills'] = X['key_skills'].apply(to_lower)\n",
    "\n",
    "X['City coded'] = X['City coded'].apply(to_lower)"
   ]
  },
  {
   "cell_type": "code",
   "execution_count": 11,
   "metadata": {},
   "outputs": [
    {
     "data": {
      "text/html": [
       "<div>\n",
       "<style scoped>\n",
       "    .dataframe tbody tr th:only-of-type {\n",
       "        vertical-align: middle;\n",
       "    }\n",
       "\n",
       "    .dataframe tbody tr th {\n",
       "        vertical-align: top;\n",
       "    }\n",
       "\n",
       "    .dataframe thead th {\n",
       "        text-align: right;\n",
       "    }\n",
       "</style>\n",
       "<table border=\"1\" class=\"dataframe\">\n",
       "  <thead>\n",
       "    <tr style=\"text-align: right;\">\n",
       "      <th></th>\n",
       "      <th>job_desig</th>\n",
       "      <th>key_skills</th>\n",
       "      <th>City coded</th>\n",
       "      <th>Avg_Exp</th>\n",
       "      <th>Avg_Salary</th>\n",
       "      <th>company_name_encoded</th>\n",
       "    </tr>\n",
       "  </thead>\n",
       "  <tbody>\n",
       "    <tr>\n",
       "      <th>0</th>\n",
       "      <td>senior exploit vulnerability research</td>\n",
       "      <td>team skills communication skills analytical sk...</td>\n",
       "      <td>delhi ncr</td>\n",
       "      <td>6</td>\n",
       "      <td>8</td>\n",
       "      <td>3687</td>\n",
       "    </tr>\n",
       "    <tr>\n",
       "      <th>1</th>\n",
       "      <td>head scm</td>\n",
       "      <td>ppc logistics inventory management supply chai...</td>\n",
       "      <td>tier 2</td>\n",
       "      <td>13</td>\n",
       "      <td>12</td>\n",
       "      <td>458</td>\n",
       "    </tr>\n",
       "    <tr>\n",
       "      <th>2</th>\n",
       "      <td>deputy manager  talent management  leadership ...</td>\n",
       "      <td>hr analytics employee engagement training succ...</td>\n",
       "      <td>delhi ncr</td>\n",
       "      <td>7</td>\n",
       "      <td>20</td>\n",
       "      <td>4195</td>\n",
       "    </tr>\n",
       "    <tr>\n",
       "      <th>3</th>\n",
       "      <td>associate manager data engin</td>\n",
       "      <td>sql javascript automation python ruby analytic...</td>\n",
       "      <td>bengaluru</td>\n",
       "      <td>8</td>\n",
       "      <td>12</td>\n",
       "      <td>313</td>\n",
       "    </tr>\n",
       "    <tr>\n",
       "      <th>4</th>\n",
       "      <td>ts gsa senior analyst</td>\n",
       "      <td>accounting finance cash flow financial plannin...</td>\n",
       "      <td>delhi ncr</td>\n",
       "      <td>2</td>\n",
       "      <td>4</td>\n",
       "      <td>1305</td>\n",
       "    </tr>\n",
       "  </tbody>\n",
       "</table>\n",
       "</div>"
      ],
      "text/plain": [
       "                                           job_desig  \\\n",
       "0              senior exploit vulnerability research   \n",
       "1                                           head scm   \n",
       "2  deputy manager  talent management  leadership ...   \n",
       "3                       associate manager data engin   \n",
       "4                              ts gsa senior analyst   \n",
       "\n",
       "                                          key_skills City coded  Avg_Exp  \\\n",
       "0  team skills communication skills analytical sk...  delhi ncr        6   \n",
       "1  ppc logistics inventory management supply chai...     tier 2       13   \n",
       "2  hr analytics employee engagement training succ...  delhi ncr        7   \n",
       "3  sql javascript automation python ruby analytic...  bengaluru        8   \n",
       "4  accounting finance cash flow financial plannin...  delhi ncr        2   \n",
       "\n",
       "   Avg_Salary  company_name_encoded  \n",
       "0           8                  3687  \n",
       "1          12                   458  \n",
       "2          20                  4195  \n",
       "3          12                   313  \n",
       "4           4                  1305  "
      ]
     },
     "execution_count": 11,
     "metadata": {},
     "output_type": "execute_result"
    }
   ],
   "source": [
    "X.head()"
   ]
  },
  {
   "cell_type": "code",
   "execution_count": 12,
   "metadata": {},
   "outputs": [],
   "source": [
    "# CountVectorizer - name & categories\n",
    "cv = CountVectorizer(min_df=10)\n",
    "X_job_desig = cv.fit_transform(X['job_desig'])\n",
    "cv1 = CountVectorizer(min_df=10)\n",
    "X_key_skills = cv1.fit_transform(X['key_skills'])\n",
    "cv2 = CountVectorizer(min_df=10)\n",
    "X_City_coded = cv2.fit_transform(X['City coded'])"
   ]
  },
  {
   "cell_type": "code",
   "execution_count": 13,
   "metadata": {},
   "outputs": [],
   "source": [
    "from sklearn.feature_extraction.text import TfidfTransformer\n",
    "tfidf = TfidfTransformer()\n",
    "X_job_desig = tfidf.fit_transform(X_job_desig)\n",
    "tfidf1 = TfidfTransformer()\n",
    "X_key_skills = tfidf1.fit_transform(X_key_skills)\n",
    "tfidf2 = TfidfTransformer()\n",
    "X_City_coded = tfidf2.fit_transform(X_City_coded)"
   ]
  },
  {
   "cell_type": "code",
   "execution_count": 14,
   "metadata": {},
   "outputs": [
    {
     "data": {
      "text/plain": [
       "<19801x2 sparse matrix of type '<class 'numpy.int64'>'\n",
       "\twith 39154 stored elements in Compressed Sparse Row format>"
      ]
     },
     "execution_count": 14,
     "metadata": {},
     "output_type": "execute_result"
    }
   ],
   "source": [
    "X_dummies = csr_matrix(pd.get_dummies(X[['company_name_encoded', 'Avg_Exp']], sparse=True).values)\n",
    "X_dummies"
   ]
  },
  {
   "cell_type": "code",
   "execution_count": 15,
   "metadata": {},
   "outputs": [],
   "source": [
    "sparse_merge = hstack((X_job_desig, \n",
    "                       X_key_skills, X_City_coded, X_dummies)).tocsr()"
   ]
  },
  {
   "cell_type": "code",
   "execution_count": 16,
   "metadata": {},
   "outputs": [
    {
     "data": {
      "text/plain": [
       "<19801x2209 sparse matrix of type '<class 'numpy.float64'>'\n",
       "\twith 269352 stored elements in Compressed Sparse Row format>"
      ]
     },
     "execution_count": 16,
     "metadata": {},
     "output_type": "execute_result"
    }
   ],
   "source": [
    "sparse_merge"
   ]
  },
  {
   "cell_type": "code",
   "execution_count": null,
   "metadata": {},
   "outputs": [],
   "source": []
  },
  {
   "cell_type": "code",
   "execution_count": 17,
   "metadata": {},
   "outputs": [],
   "source": [
    "#------------------------------------------------------------------------------------------"
   ]
  },
  {
   "cell_type": "code",
   "execution_count": 18,
   "metadata": {},
   "outputs": [],
   "source": [
    "test = pd.read_csv(\"TestDataset1.csv\")"
   ]
  },
  {
   "cell_type": "code",
   "execution_count": 19,
   "metadata": {},
   "outputs": [
    {
     "name": "stderr",
     "output_type": "stream",
     "text": [
      "C:\\Users\\Sanket\\Anaconda3\\lib\\site-packages\\ipykernel_launcher.py:7: SettingWithCopyWarning: \n",
      "A value is trying to be set on a copy of a slice from a DataFrame\n",
      "\n",
      "See the caveats in the documentation: http://pandas.pydata.org/pandas-docs/stable/indexing.html#indexing-view-versus-copy\n",
      "  import sys\n",
      "C:\\Users\\Sanket\\Anaconda3\\lib\\site-packages\\ipykernel_launcher.py:8: SettingWithCopyWarning: \n",
      "A value is trying to be set on a copy of a slice from a DataFrame.\n",
      "Try using .loc[row_indexer,col_indexer] = value instead\n",
      "\n",
      "See the caveats in the documentation: http://pandas.pydata.org/pandas-docs/stable/indexing.html#indexing-view-versus-copy\n",
      "  \n",
      "C:\\Users\\Sanket\\Anaconda3\\lib\\site-packages\\ipykernel_launcher.py:9: SettingWithCopyWarning: \n",
      "A value is trying to be set on a copy of a slice from a DataFrame.\n",
      "Try using .loc[row_indexer,col_indexer] = value instead\n",
      "\n",
      "See the caveats in the documentation: http://pandas.pydata.org/pandas-docs/stable/indexing.html#indexing-view-versus-copy\n",
      "  if __name__ == '__main__':\n"
     ]
    }
   ],
   "source": [
    "test['Exp'] = test[\"experience\"].str.extract(\"(\\d*\\d.?\\d+)\", expand=True)\n",
    "test['Exp'] = test['Exp'].str.split('-')\n",
    "test[['start','end']] = pd.DataFrame(test.Exp.values.tolist())\n",
    "test['Avg_Exp'] = test[['start','end']].astype(float).mean(axis=1)\n",
    "Xtest = test[['job_desig', 'key_skills', 'Avg_Exp', 'location', 'company_name_encoded']]\n",
    "\n",
    "Xtest.dropna(subset=['key_skills'], inplace=True)\n",
    "Xtest['Avg_Exp'] = Xtest['Avg_Exp'].astype(int)\n",
    "Xtest['City coded'] = Xtest['location']\n",
    "Xtest = Xtest.drop(['location'], axis = 1)"
   ]
  },
  {
   "cell_type": "code",
   "execution_count": 20,
   "metadata": {},
   "outputs": [
    {
     "data": {
      "text/html": [
       "<div>\n",
       "<style scoped>\n",
       "    .dataframe tbody tr th:only-of-type {\n",
       "        vertical-align: middle;\n",
       "    }\n",
       "\n",
       "    .dataframe tbody tr th {\n",
       "        vertical-align: top;\n",
       "    }\n",
       "\n",
       "    .dataframe thead th {\n",
       "        text-align: right;\n",
       "    }\n",
       "</style>\n",
       "<table border=\"1\" class=\"dataframe\">\n",
       "  <thead>\n",
       "    <tr style=\"text-align: right;\">\n",
       "      <th></th>\n",
       "      <th>job_desig</th>\n",
       "      <th>key_skills</th>\n",
       "      <th>Avg_Exp</th>\n",
       "      <th>company_name_encoded</th>\n",
       "      <th>City coded</th>\n",
       "    </tr>\n",
       "  </thead>\n",
       "  <tbody>\n",
       "    <tr>\n",
       "      <th>0</th>\n",
       "      <td>IT Technology Senior Consultant/java/ J2ee/ Se...</td>\n",
       "      <td>Java, J2Ee, Tomcat, JBoss, Weblogic, Oracle, E...</td>\n",
       "      <td>9</td>\n",
       "      <td>2066</td>\n",
       "      <td>Bengaluru</td>\n",
       "    </tr>\n",
       "    <tr>\n",
       "      <th>1</th>\n",
       "      <td>Medical Billing Process | International KPO | ...</td>\n",
       "      <td>Medical Billing, Insurance Processing</td>\n",
       "      <td>2</td>\n",
       "      <td>2629</td>\n",
       "      <td>Ahmedabad</td>\n",
       "    </tr>\n",
       "    <tr>\n",
       "      <th>2</th>\n",
       "      <td>Oracle Sales Cloud Functional Consultant</td>\n",
       "      <td>Oracle Sales, Functional Consultancy, Troubles...</td>\n",
       "      <td>4</td>\n",
       "      <td>2448</td>\n",
       "      <td>Bengaluru</td>\n",
       "    </tr>\n",
       "    <tr>\n",
       "      <th>3</th>\n",
       "      <td>Looking For Freshers WHO WANT To Work WITH US</td>\n",
       "      <td>offline, online, internet, part time, home bas...</td>\n",
       "      <td>1</td>\n",
       "      <td>2711</td>\n",
       "      <td>Metro</td>\n",
       "    </tr>\n",
       "    <tr>\n",
       "      <th>4</th>\n",
       "      <td>Process Associate / Sr Process Associate / Tec...</td>\n",
       "      <td>voice support, analytical skills, Process asso...</td>\n",
       "      <td>2</td>\n",
       "      <td>40</td>\n",
       "      <td>Hyderabad</td>\n",
       "    </tr>\n",
       "  </tbody>\n",
       "</table>\n",
       "</div>"
      ],
      "text/plain": [
       "                                           job_desig  \\\n",
       "0  IT Technology Senior Consultant/java/ J2ee/ Se...   \n",
       "1  Medical Billing Process | International KPO | ...   \n",
       "2           Oracle Sales Cloud Functional Consultant   \n",
       "3      Looking For Freshers WHO WANT To Work WITH US   \n",
       "4  Process Associate / Sr Process Associate / Tec...   \n",
       "\n",
       "                                          key_skills  Avg_Exp  \\\n",
       "0  Java, J2Ee, Tomcat, JBoss, Weblogic, Oracle, E...        9   \n",
       "1              Medical Billing, Insurance Processing        2   \n",
       "2  Oracle Sales, Functional Consultancy, Troubles...        4   \n",
       "3  offline, online, internet, part time, home bas...        1   \n",
       "4  voice support, analytical skills, Process asso...        2   \n",
       "\n",
       "   company_name_encoded City coded  \n",
       "0                  2066  Bengaluru  \n",
       "1                  2629  Ahmedabad  \n",
       "2                  2448  Bengaluru  \n",
       "3                  2711      Metro  \n",
       "4                    40  Hyderabad  "
      ]
     },
     "execution_count": 20,
     "metadata": {},
     "output_type": "execute_result"
    }
   ],
   "source": [
    "Xtest.head()"
   ]
  },
  {
   "cell_type": "code",
   "execution_count": 21,
   "metadata": {},
   "outputs": [],
   "source": [
    "Xtest['job_desig'] = Xtest['job_desig'].apply(porter.stem)\n",
    "\n",
    "Xtest['job_desig'] = Xtest['job_desig'].apply(remove_punctuation)\n",
    "Xtest['job_desig'] = Xtest['job_desig'].apply(remove_stop_words)\n",
    "Xtest['job_desig'] = Xtest['job_desig'].apply(to_lower)\n",
    "\n",
    "Xtest['key_skills'] = Xtest['key_skills'].apply(remove_punctuation)\n",
    "Xtest['key_skills'] = Xtest['key_skills'].apply(remove_stop_words)\n",
    "Xtest['key_skills'] = Xtest['key_skills'].apply(to_lower)\n",
    "\n",
    "Xtest['City coded'] = Xtest['City coded'].apply(to_lower)"
   ]
  },
  {
   "cell_type": "code",
   "execution_count": 22,
   "metadata": {},
   "outputs": [],
   "source": [
    "X_test_job_desig = cv.transform(Xtest['job_desig'])\n",
    "X_test_key_skills = cv1.transform(Xtest['key_skills'])\n",
    "X_test_City_coded = cv2.transform(Xtest['City coded'])\n"
   ]
  },
  {
   "cell_type": "code",
   "execution_count": 23,
   "metadata": {},
   "outputs": [],
   "source": [
    "X_test_job_desig = tfidf.transform(X_test_job_desig)\n",
    "X_test_key_skills = tfidf1.transform(X_test_key_skills)\n",
    "X_test_City_coded = tfidf2.transform(X_test_City_coded)"
   ]
  },
  {
   "cell_type": "code",
   "execution_count": 24,
   "metadata": {},
   "outputs": [
    {
     "data": {
      "text/plain": [
       "<6601x2 sparse matrix of type '<class 'numpy.int64'>'\n",
       "\twith 13047 stored elements in Compressed Sparse Row format>"
      ]
     },
     "execution_count": 24,
     "metadata": {},
     "output_type": "execute_result"
    }
   ],
   "source": [
    "X_test_dummies = csr_matrix(pd.get_dummies(Xtest[['company_name_encoded', 'Avg_Exp']], sparse=True).values)\n",
    "X_test_dummies"
   ]
  },
  {
   "cell_type": "code",
   "execution_count": 25,
   "metadata": {},
   "outputs": [],
   "source": [
    "sparse_merge_test = hstack((X_test_job_desig, \n",
    "                       X_test_key_skills, X_test_City_coded, X_test_dummies)).tocsr()"
   ]
  },
  {
   "cell_type": "code",
   "execution_count": 26,
   "metadata": {},
   "outputs": [
    {
     "data": {
      "text/plain": [
       "<6601x2209 sparse matrix of type '<class 'numpy.float64'>'\n",
       "\twith 89141 stored elements in Compressed Sparse Row format>"
      ]
     },
     "execution_count": 26,
     "metadata": {},
     "output_type": "execute_result"
    }
   ],
   "source": [
    "sparse_merge_test"
   ]
  },
  {
   "cell_type": "code",
   "execution_count": null,
   "metadata": {},
   "outputs": [],
   "source": []
  },
  {
   "cell_type": "code",
   "execution_count": 27,
   "metadata": {},
   "outputs": [],
   "source": [
    "from sklearn.naive_bayes import MultinomialNB\n",
    "clf = MultinomialNB().fit(sparse_merge, X.Avg_Salary)"
   ]
  },
  {
   "cell_type": "code",
   "execution_count": 28,
   "metadata": {},
   "outputs": [],
   "source": [
    "predicted = clf.predict(sparse_merge_test)"
   ]
  },
  {
   "cell_type": "code",
   "execution_count": 29,
   "metadata": {},
   "outputs": [
    {
     "data": {
      "text/plain": [
       "array([20,  1,  8, ..., 12, 20, 12])"
      ]
     },
     "execution_count": 29,
     "metadata": {},
     "output_type": "execute_result"
    }
   ],
   "source": [
    "predicted"
   ]
  },
  {
   "cell_type": "code",
   "execution_count": 30,
   "metadata": {},
   "outputs": [
    {
     "data": {
      "text/plain": [
       "array([20,  1,  8,  1,  1, 12, 37,  1, 12,  1, 37, 12, 20, 37, 20, 20,  1,\n",
       "        1, 12, 20, 20, 20,  8,  8, 20,  4, 20, 37, 37, 12,  1, 20, 20, 37,\n",
       "       37,  8, 20,  1,  1, 20,  1,  8, 37, 20,  8, 20,  4,  8, 37, 12])"
      ]
     },
     "execution_count": 30,
     "metadata": {},
     "output_type": "execute_result"
    }
   ],
   "source": [
    "predicted[:50]"
   ]
  },
  {
   "cell_type": "markdown",
   "metadata": {},
   "source": [
    "# KNeighborsClassifier"
   ]
  },
  {
   "cell_type": "code",
   "execution_count": 31,
   "metadata": {},
   "outputs": [],
   "source": [
    "from sklearn.model_selection import train_test_split\n",
    "X_train, X_test, y_train, y_test = train_test_split(sparse_merge, X.Avg_Salary, test_size=0.20)"
   ]
  },
  {
   "cell_type": "code",
   "execution_count": 32,
   "metadata": {},
   "outputs": [
    {
     "data": {
      "text/plain": [
       "KNeighborsClassifier(algorithm='auto', leaf_size=30, metric='minkowski',\n",
       "           metric_params=None, n_jobs=None, n_neighbors=5, p=2,\n",
       "           weights='uniform')"
      ]
     },
     "execution_count": 32,
     "metadata": {},
     "output_type": "execute_result"
    }
   ],
   "source": [
    "from sklearn.neighbors import KNeighborsClassifier\n",
    "classifier = KNeighborsClassifier(n_neighbors=5)\n",
    "classifier.fit(X_train, y_train)"
   ]
  },
  {
   "cell_type": "code",
   "execution_count": 33,
   "metadata": {},
   "outputs": [],
   "source": [
    "y_pred = classifier.predict(X_test)"
   ]
  },
  {
   "cell_type": "code",
   "execution_count": 34,
   "metadata": {},
   "outputs": [
    {
     "name": "stdout",
     "output_type": "stream",
     "text": [
      "[[390 102  48  33  19   1]\n",
      " [206 203 123  46  16   2]\n",
      " [103 140 192 172  85   8]\n",
      " [ 62  79 172 371 231  16]\n",
      " [ 31  42  98 268 313  56]\n",
      " [  4   4  16  46 115 148]]\n",
      "              precision    recall  f1-score   support\n",
      "\n",
      "           1       0.49      0.66      0.56       593\n",
      "           4       0.36      0.34      0.35       596\n",
      "           8       0.30      0.27      0.28       700\n",
      "          12       0.40      0.40      0.40       931\n",
      "          20       0.40      0.39      0.39       808\n",
      "          37       0.64      0.44      0.52       333\n",
      "\n",
      "   micro avg       0.41      0.41      0.41      3961\n",
      "   macro avg       0.43      0.42      0.42      3961\n",
      "weighted avg       0.41      0.41      0.40      3961\n",
      "\n"
     ]
    }
   ],
   "source": [
    "from sklearn.metrics import classification_report, confusion_matrix\n",
    "print(confusion_matrix(y_test, y_pred))\n",
    "print(classification_report(y_test, y_pred))"
   ]
  },
  {
   "cell_type": "markdown",
   "metadata": {},
   "source": [
    "# LinearRegression"
   ]
  },
  {
   "cell_type": "code",
   "execution_count": 35,
   "metadata": {},
   "outputs": [],
   "source": [
    "from sklearn.model_selection import train_test_split\n",
    "from sklearn.metrics import mean_squared_error\n",
    "from sklearn.metrics import r2_score\n",
    "from sklearn.linear_model import LinearRegression"
   ]
  },
  {
   "cell_type": "code",
   "execution_count": 36,
   "metadata": {},
   "outputs": [],
   "source": [
    "X_train, X_test, y_train, y_test = train_test_split(sparse_merge, X.Avg_Salary, test_size = 0.2, random_state=9)"
   ]
  },
  {
   "cell_type": "code",
   "execution_count": 37,
   "metadata": {},
   "outputs": [],
   "source": [
    "linr = LinearRegression()\n",
    "linr.fit(X_train, y_train)\n",
    "pred = linr.predict(X_test)"
   ]
  },
  {
   "cell_type": "code",
   "execution_count": 38,
   "metadata": {},
   "outputs": [],
   "source": [
    "test_set_rmse = (np.sqrt(mean_squared_error(y_test, pred)))\n",
    "\n",
    "test_set_r2 = r2_score(y_test, pred)"
   ]
  },
  {
   "cell_type": "code",
   "execution_count": 39,
   "metadata": {},
   "outputs": [
    {
     "name": "stdout",
     "output_type": "stream",
     "text": [
      "6.757151336939335\n",
      "0.5128498156815766\n"
     ]
    }
   ],
   "source": [
    "print(test_set_rmse)\n",
    "print(test_set_r2)"
   ]
  },
  {
   "cell_type": "markdown",
   "metadata": {},
   "source": [
    "# RandomForestRegressor"
   ]
  },
  {
   "cell_type": "code",
   "execution_count": 40,
   "metadata": {},
   "outputs": [],
   "source": [
    "X_train, X_test, y_train, y_test = train_test_split(sparse_merge, X.Avg_Salary, test_size = 0.25, random_state = 42)"
   ]
  },
  {
   "cell_type": "code",
   "execution_count": 41,
   "metadata": {},
   "outputs": [
    {
     "data": {
      "text/plain": [
       "RandomForestRegressor(bootstrap=True, criterion='mse', max_depth=None,\n",
       "           max_features='auto', max_leaf_nodes=None,\n",
       "           min_impurity_decrease=0.0, min_impurity_split=None,\n",
       "           min_samples_leaf=1, min_samples_split=2,\n",
       "           min_weight_fraction_leaf=0.0, n_estimators=100, n_jobs=None,\n",
       "           oob_score=False, random_state=42, verbose=0, warm_start=False)"
      ]
     },
     "execution_count": 41,
     "metadata": {},
     "output_type": "execute_result"
    }
   ],
   "source": [
    "from sklearn.ensemble import RandomForestRegressor\n",
    "rf = RandomForestRegressor(n_estimators = 100, random_state = 42)\n",
    "rf.fit(X_train, y_train)"
   ]
  },
  {
   "cell_type": "code",
   "execution_count": 42,
   "metadata": {},
   "outputs": [],
   "source": [
    "preds = rf.predict(X_test)"
   ]
  },
  {
   "cell_type": "code",
   "execution_count": 43,
   "metadata": {},
   "outputs": [
    {
     "name": "stdout",
     "output_type": "stream",
     "text": [
      "MAE: 4.772739625510569\n"
     ]
    }
   ],
   "source": [
    "from sklearn.metrics import mean_absolute_error\n",
    "print('MAE:', mean_absolute_error(y_test, preds))"
   ]
  },
  {
   "cell_type": "code",
   "execution_count": 44,
   "metadata": {},
   "outputs": [
    {
     "data": {
      "text/plain": [
       "9130      6.940000\n",
       "12413     4.469333\n",
       "4694      2.323333\n",
       "13003     0.693667\n",
       "14304     4.095500\n",
       "14164     4.202000\n",
       "2236      4.230000\n",
       "2248      7.423222\n",
       "8089      6.108000\n",
       "6495      4.898512\n",
       "15336     3.666667\n",
       "18007     2.610000\n",
       "2880      5.090667\n",
       "13308     8.503333\n",
       "7242      3.923333\n",
       "9050      0.235000\n",
       "4374      2.905000\n",
       "2731      4.854762\n",
       "18305    11.433000\n",
       "7579      1.466667\n",
       "17832     2.746071\n",
       "2251      9.137000\n",
       "7248      7.200000\n",
       "10114     0.405000\n",
       "9991      0.450000\n",
       "8014      5.660000\n",
       "5377      0.140000\n",
       "16097     0.480000\n",
       "14152     9.521667\n",
       "19671     2.727262\n",
       "           ...    \n",
       "13642     2.400000\n",
       "1651      0.868000\n",
       "11397     5.720000\n",
       "7285      4.542167\n",
       "11551     1.400000\n",
       "8011      5.166667\n",
       "435       7.453333\n",
       "14941     8.205000\n",
       "15338     3.596667\n",
       "13839     0.213333\n",
       "10218    16.568857\n",
       "17997     9.566167\n",
       "2563      6.300000\n",
       "18567     0.367000\n",
       "18851     3.129000\n",
       "3199      0.370000\n",
       "14741     0.457333\n",
       "13771    14.294976\n",
       "17269     2.473667\n",
       "16555     0.918167\n",
       "19595     7.580952\n",
       "5413      0.000000\n",
       "6210      8.396444\n",
       "17405    13.406929\n",
       "16131     4.220667\n",
       "17644     2.502667\n",
       "15308     2.858190\n",
       "10910     7.353333\n",
       "5024      8.660000\n",
       "12277     1.310571\n",
       "Name: Avg_Salary, Length: 4951, dtype: float64"
      ]
     },
     "execution_count": 44,
     "metadata": {},
     "output_type": "execute_result"
    }
   ],
   "source": [
    "errors = abs(preds - y_test)\n",
    "errors"
   ]
  },
  {
   "cell_type": "code",
   "execution_count": 45,
   "metadata": {},
   "outputs": [
    {
     "name": "stdout",
     "output_type": "stream",
     "text": [
      "Metrics for Random Forest Trained on Expanded Data\n",
      "Average absolute error: 4.77 degrees.\n"
     ]
    }
   ],
   "source": [
    "print('Metrics for Random Forest Trained on Expanded Data')\n",
    "print('Average absolute error:', round(np.mean(errors), 2), 'degrees.')"
   ]
  },
  {
   "cell_type": "code",
   "execution_count": 46,
   "metadata": {},
   "outputs": [],
   "source": [
    "mape = np.mean(100 * (errors / y_test))"
   ]
  },
  {
   "cell_type": "code",
   "execution_count": 47,
   "metadata": {},
   "outputs": [
    {
     "name": "stdout",
     "output_type": "stream",
     "text": [
      "Accuracy: 15.11 %.\n"
     ]
    }
   ],
   "source": [
    "accuracy = 100 - np.mean(mape)\n",
    "print('Accuracy:', round(accuracy, 2), '%.')"
   ]
  },
  {
   "cell_type": "code",
   "execution_count": 48,
   "metadata": {},
   "outputs": [],
   "source": [
    "from xgboost import XGBClassifier"
   ]
  },
  {
   "cell_type": "code",
   "execution_count": 49,
   "metadata": {},
   "outputs": [
    {
     "data": {
      "text/plain": [
       "XGBClassifier(base_score=0.5, booster='gbtree', colsample_bylevel=1,\n",
       "       colsample_bynode=1, colsample_bytree=1, gamma=0, learning_rate=0.1,\n",
       "       max_delta_step=0, max_depth=3, min_child_weight=1, missing=None,\n",
       "       n_estimators=200, n_jobs=1, nthread=None,\n",
       "       objective='multi:softprob', random_state=0, reg_alpha=0,\n",
       "       reg_lambda=1, scale_pos_weight=1, seed=None, silent=None,\n",
       "       subsample=1, verbosity=1)"
      ]
     },
     "execution_count": 49,
     "metadata": {},
     "output_type": "execute_result"
    }
   ],
   "source": [
    "model = XGBClassifier(n_estimators=200)\n",
    "model.fit(X_train, y_train)"
   ]
  },
  {
   "cell_type": "code",
   "execution_count": 50,
   "metadata": {},
   "outputs": [],
   "source": [
    "# make predictions for test data\n",
    "y_pred = model.predict(X_test)"
   ]
  },
  {
   "cell_type": "code",
   "execution_count": 51,
   "metadata": {},
   "outputs": [],
   "source": [
    "predictions = [round(value) for value in y_pred]"
   ]
  },
  {
   "cell_type": "code",
   "execution_count": 52,
   "metadata": {},
   "outputs": [
    {
     "name": "stdout",
     "output_type": "stream",
     "text": [
      "Accuracy: 43.93%\n"
     ]
    }
   ],
   "source": [
    "# evaluate predictions\n",
    "from sklearn.metrics import accuracy_score\n",
    "accuracy = accuracy_score(y_test, predictions)\n",
    "print(\"Accuracy: %.2f%%\" % (accuracy * 100.0))"
   ]
  },
  {
   "cell_type": "code",
   "execution_count": 53,
   "metadata": {},
   "outputs": [],
   "source": [
    "y_pred_test = model.predict(sparse_merge_test)"
   ]
  },
  {
   "cell_type": "code",
   "execution_count": 54,
   "metadata": {},
   "outputs": [
    {
     "data": {
      "text/plain": [
       "array([20,  1, 12, ..., 20, 20, 12])"
      ]
     },
     "execution_count": 54,
     "metadata": {},
     "output_type": "execute_result"
    }
   ],
   "source": [
    "y_pred_test"
   ]
  },
  {
   "cell_type": "code",
   "execution_count": 55,
   "metadata": {},
   "outputs": [
    {
     "data": {
      "text/plain": [
       "array([20,  1, 12,  1,  1,  8, 20,  1, 20,  1, 20, 12, 12, 20,  4,  8,  1,\n",
       "        1, 12,  4,  8, 37,  8,  8, 12,  1, 20, 12, 20,  4,  1, 20, 12, 20,\n",
       "       37,  8, 12,  1,  1, 12, 12,  8, 37,  8,  8,  8,  4, 12, 12, 12])"
      ]
     },
     "execution_count": 55,
     "metadata": {},
     "output_type": "execute_result"
    }
   ],
   "source": [
    "y_pred_test[:50]"
   ]
  },
  {
   "cell_type": "markdown",
   "metadata": {},
   "source": [
    "# GridsearchCV"
   ]
  },
  {
   "cell_type": "code",
   "execution_count": 56,
   "metadata": {},
   "outputs": [],
   "source": [
    "from sklearn.linear_model import ElasticNet\n",
    "from sklearn.model_selection import GridSearchCV\n",
    "from sklearn.model_selection import train_test_split\n",
    "from sklearn.metrics import mean_squared_error\n",
    "from sklearn.metrics import r2_score"
   ]
  },
  {
   "cell_type": "code",
   "execution_count": 57,
   "metadata": {},
   "outputs": [],
   "source": [
    "X_train, X_test, y_train, y_test = train_test_split(sparse_merge, X.Avg_Salary, test_size = 0.25, random_state = 42)"
   ]
  },
  {
   "cell_type": "code",
   "execution_count": 58,
   "metadata": {},
   "outputs": [],
   "source": [
    "elastic_net = ElasticNet()"
   ]
  },
  {
   "cell_type": "code",
   "execution_count": 59,
   "metadata": {},
   "outputs": [],
   "source": [
    "param_grid = {\"l1_ratio\": np.arange(0.0, 1.0, 0.1)}"
   ]
  },
  {
   "cell_type": "code",
   "execution_count": 60,
   "metadata": {},
   "outputs": [],
   "source": [
    "gscv = GridSearchCV(elastic_net, param_grid, scoring='r2', cv=10, n_jobs= -1)"
   ]
  },
  {
   "cell_type": "code",
   "execution_count": 61,
   "metadata": {},
   "outputs": [
    {
     "data": {
      "text/plain": [
       "GridSearchCV(cv=10, error_score='raise-deprecating',\n",
       "       estimator=ElasticNet(alpha=1.0, copy_X=True, fit_intercept=True, l1_ratio=0.5,\n",
       "      max_iter=1000, normalize=False, positive=False, precompute=False,\n",
       "      random_state=None, selection='cyclic', tol=0.0001, warm_start=False),\n",
       "       fit_params=None, iid='warn', n_jobs=-1,\n",
       "       param_grid={'l1_ratio': array([0. , 0.1, 0.2, 0.3, 0.4, 0.5, 0.6, 0.7, 0.8, 0.9])},\n",
       "       pre_dispatch='2*n_jobs', refit=True, return_train_score='warn',\n",
       "       scoring='r2', verbose=0)"
      ]
     },
     "execution_count": 61,
     "metadata": {},
     "output_type": "execute_result"
    }
   ],
   "source": [
    "gscv"
   ]
  },
  {
   "cell_type": "code",
   "execution_count": 62,
   "metadata": {},
   "outputs": [
    {
     "name": "stderr",
     "output_type": "stream",
     "text": [
      "C:\\Users\\Sanket\\Anaconda3\\lib\\site-packages\\sklearn\\linear_model\\coordinate_descent.py:492: ConvergenceWarning: Objective did not converge. You might want to increase the number of iterations. Fitting data with very small alpha may cause precision problems.\n",
      "  ConvergenceWarning)\n"
     ]
    },
    {
     "data": {
      "text/plain": [
       "GridSearchCV(cv=10, error_score='raise-deprecating',\n",
       "       estimator=ElasticNet(alpha=1.0, copy_X=True, fit_intercept=True, l1_ratio=0.5,\n",
       "      max_iter=1000, normalize=False, positive=False, precompute=False,\n",
       "      random_state=None, selection='cyclic', tol=0.0001, warm_start=False),\n",
       "       fit_params=None, iid='warn', n_jobs=-1,\n",
       "       param_grid={'l1_ratio': array([0. , 0.1, 0.2, 0.3, 0.4, 0.5, 0.6, 0.7, 0.8, 0.9])},\n",
       "       pre_dispatch='2*n_jobs', refit=True, return_train_score='warn',\n",
       "       scoring='r2', verbose=0)"
      ]
     },
     "execution_count": 62,
     "metadata": {},
     "output_type": "execute_result"
    }
   ],
   "source": [
    "gscv.fit(X_train, y_train)"
   ]
  },
  {
   "cell_type": "code",
   "execution_count": 63,
   "metadata": {},
   "outputs": [],
   "source": [
    "y_pred = gscv.predict(X_test)\n",
    "r2 = gscv.score(X_test, y_test)\n",
    "mse = mean_squared_error(y_test, y_pred)"
   ]
  },
  {
   "cell_type": "code",
   "execution_count": 64,
   "metadata": {},
   "outputs": [
    {
     "name": "stdout",
     "output_type": "stream",
     "text": [
      "[ 5.69781029  9.40091889  7.24923103 ... 13.50024462 10.70359676\n",
      "  8.73784418]\n",
      "0.44542093898266466\n",
      "51.705814291717644\n"
     ]
    }
   ],
   "source": [
    "print(y_pred)\n",
    "print(r2)\n",
    "print(mse)"
   ]
  },
  {
   "cell_type": "code",
   "execution_count": 65,
   "metadata": {},
   "outputs": [
    {
     "data": {
      "text/plain": [
       "array([ 5.69781029,  9.40091889,  7.24923103, 10.42350346,  5.47122406,\n",
       "        7.74202845, 29.96046697, 13.86261541, 18.26647671, 10.5831604 ,\n",
       "        8.86066393,  3.92102605, 14.76237278,  7.32034283,  9.39648741,\n",
       "        4.46666229,  7.88579135, 10.22432623, 22.03063684,  8.52305412,\n",
       "        7.51728793, 26.16852162, 15.67545695,  3.94773848,  4.19590163,\n",
       "       10.73285475,  5.79018532,  7.79234859,  9.30790003, 15.18896578,\n",
       "       10.52301063, 20.52284851, 10.36729937, 13.52198421,  4.34789911,\n",
       "       13.90652095,  9.19324411,  7.0028003 ,  8.81991129, 12.76845029,\n",
       "       14.03717814, 10.12655228, 18.69288728, 16.65223817, 11.81939817,\n",
       "        9.20092864,  8.57336515, 15.3349403 , 14.03717814, 10.32551183])"
      ]
     },
     "execution_count": 65,
     "metadata": {},
     "output_type": "execute_result"
    }
   ],
   "source": [
    "y_pred[:50]"
   ]
  },
  {
   "cell_type": "code",
   "execution_count": 66,
   "metadata": {},
   "outputs": [],
   "source": [
    "y_pred_test = gscv.predict(sparse_merge_test)"
   ]
  },
  {
   "cell_type": "code",
   "execution_count": 67,
   "metadata": {},
   "outputs": [
    {
     "data": {
      "text/plain": [
       "array([16.93234514,  5.70961076,  8.95846842,  4.21634756,  5.15481659,\n",
       "       10.1266885 , 26.13641282,  4.0683636 , 13.78061726,  5.05907509,\n",
       "       21.41091961, 13.60899978, 10.33540618, 18.52345521,  8.49383322,\n",
       "        7.09919785,  7.02783797,  3.97973361, 13.70796525,  8.66333212,\n",
       "        7.15195131, 23.49866262,  7.52622287,  9.99455094, 11.74279047,\n",
       "        2.30295051, 21.56907149, 13.43605928, 16.67194028,  7.00319116,\n",
       "        4.22668799, 13.78861012, 10.32700267, 13.72111836, 31.44321284,\n",
       "       10.11592771, 10.36450695,  4.17137447,  2.49092571, 10.31785596,\n",
       "       10.65481958, 10.41874595, 25.02104083,  7.03299546,  6.79509802,\n",
       "       11.97094909,  6.80107692, 12.10135439, 13.57296207,  8.59985429])"
      ]
     },
     "execution_count": 67,
     "metadata": {},
     "output_type": "execute_result"
    }
   ],
   "source": [
    "y_pred_test[:50]"
   ]
  },
  {
   "cell_type": "code",
   "execution_count": 93,
   "metadata": {},
   "outputs": [],
   "source": [
    "y_pred_test = np.around(y_pred_test)"
   ]
  },
  {
   "cell_type": "code",
   "execution_count": 94,
   "metadata": {},
   "outputs": [
    {
     "data": {
      "text/plain": [
       "array([17.,  6.,  9.,  4.,  5., 10., 26.,  4., 14.,  5., 21., 14., 10.,\n",
       "       19.,  8.,  7.,  7.,  4., 14.,  9.,  7., 24.,  8., 10., 12.,  2.,\n",
       "       22., 13., 17.,  7.,  4., 14., 10., 14., 31., 10., 10.,  4.,  2.,\n",
       "       10., 11., 10., 25.,  7.,  7., 12.,  7., 12., 14.,  9.])"
      ]
     },
     "execution_count": 94,
     "metadata": {},
     "output_type": "execute_result"
    }
   ],
   "source": [
    "y_pred_test[:50]"
   ]
  },
  {
   "cell_type": "code",
   "execution_count": 95,
   "metadata": {},
   "outputs": [],
   "source": [
    "Xtest['salary'] = y_pred_test"
   ]
  },
  {
   "cell_type": "code",
   "execution_count": 96,
   "metadata": {},
   "outputs": [
    {
     "data": {
      "text/html": [
       "<div>\n",
       "<style scoped>\n",
       "    .dataframe tbody tr th:only-of-type {\n",
       "        vertical-align: middle;\n",
       "    }\n",
       "\n",
       "    .dataframe tbody tr th {\n",
       "        vertical-align: top;\n",
       "    }\n",
       "\n",
       "    .dataframe thead th {\n",
       "        text-align: right;\n",
       "    }\n",
       "</style>\n",
       "<table border=\"1\" class=\"dataframe\">\n",
       "  <thead>\n",
       "    <tr style=\"text-align: right;\">\n",
       "      <th></th>\n",
       "      <th>job_desig</th>\n",
       "      <th>key_skills</th>\n",
       "      <th>Avg_Exp</th>\n",
       "      <th>company_name_encoded</th>\n",
       "      <th>City coded</th>\n",
       "      <th>salary</th>\n",
       "    </tr>\n",
       "  </thead>\n",
       "  <tbody>\n",
       "    <tr>\n",
       "      <th>0</th>\n",
       "      <td>technology senior consultantjava j2ee sever ap...</td>\n",
       "      <td>java j2ee tomcat jboss weblogic oracle elastic...</td>\n",
       "      <td>9</td>\n",
       "      <td>2066</td>\n",
       "      <td>bengaluru</td>\n",
       "      <td>17.0</td>\n",
       "    </tr>\n",
       "    <tr>\n",
       "      <th>1</th>\n",
       "      <td>medical billing process  international kpo  in...</td>\n",
       "      <td>medical billing insurance processing</td>\n",
       "      <td>2</td>\n",
       "      <td>2629</td>\n",
       "      <td>ahmedabad</td>\n",
       "      <td>6.0</td>\n",
       "    </tr>\n",
       "    <tr>\n",
       "      <th>2</th>\n",
       "      <td>oracle sales cloud functional consult</td>\n",
       "      <td>oracle sales functional consultancy troublesho...</td>\n",
       "      <td>4</td>\n",
       "      <td>2448</td>\n",
       "      <td>bengaluru</td>\n",
       "      <td>9.0</td>\n",
       "    </tr>\n",
       "    <tr>\n",
       "      <th>3</th>\n",
       "      <td>looking freshers want work u</td>\n",
       "      <td>offline online internet part time home base wo...</td>\n",
       "      <td>1</td>\n",
       "      <td>2711</td>\n",
       "      <td>metro</td>\n",
       "      <td>4.0</td>\n",
       "    </tr>\n",
       "    <tr>\n",
       "      <th>4</th>\n",
       "      <td>process associate  sr process associate  tech ...</td>\n",
       "      <td>voice support analytical skills process associ...</td>\n",
       "      <td>2</td>\n",
       "      <td>40</td>\n",
       "      <td>hyderabad</td>\n",
       "      <td>5.0</td>\n",
       "    </tr>\n",
       "  </tbody>\n",
       "</table>\n",
       "</div>"
      ],
      "text/plain": [
       "                                           job_desig  \\\n",
       "0  technology senior consultantjava j2ee sever ap...   \n",
       "1  medical billing process  international kpo  in...   \n",
       "2              oracle sales cloud functional consult   \n",
       "3                       looking freshers want work u   \n",
       "4  process associate  sr process associate  tech ...   \n",
       "\n",
       "                                          key_skills  Avg_Exp  \\\n",
       "0  java j2ee tomcat jboss weblogic oracle elastic...        9   \n",
       "1               medical billing insurance processing        2   \n",
       "2  oracle sales functional consultancy troublesho...        4   \n",
       "3  offline online internet part time home base wo...        1   \n",
       "4  voice support analytical skills process associ...        2   \n",
       "\n",
       "   company_name_encoded City coded  salary  \n",
       "0                  2066  bengaluru    17.0  \n",
       "1                  2629  ahmedabad     6.0  \n",
       "2                  2448  bengaluru     9.0  \n",
       "3                  2711      metro     4.0  \n",
       "4                    40  hyderabad     5.0  "
      ]
     },
     "execution_count": 96,
     "metadata": {},
     "output_type": "execute_result"
    }
   ],
   "source": [
    "Xtest.head()"
   ]
  },
  {
   "cell_type": "code",
   "execution_count": 97,
   "metadata": {},
   "outputs": [],
   "source": [
    "Xtest.to_csv('C:/Users/Sanket/Desktop/SalarypredictionNLP.csv')"
   ]
  },
  {
   "cell_type": "code",
   "execution_count": 98,
   "metadata": {},
   "outputs": [],
   "source": [
    "trial = pd.read_csv('SalarypredictionNLP.csv')"
   ]
  },
  {
   "cell_type": "code",
   "execution_count": 99,
   "metadata": {},
   "outputs": [
    {
     "data": {
      "text/html": [
       "<div>\n",
       "<style scoped>\n",
       "    .dataframe tbody tr th:only-of-type {\n",
       "        vertical-align: middle;\n",
       "    }\n",
       "\n",
       "    .dataframe tbody tr th {\n",
       "        vertical-align: top;\n",
       "    }\n",
       "\n",
       "    .dataframe thead th {\n",
       "        text-align: right;\n",
       "    }\n",
       "</style>\n",
       "<table border=\"1\" class=\"dataframe\">\n",
       "  <thead>\n",
       "    <tr style=\"text-align: right;\">\n",
       "      <th></th>\n",
       "      <th>Unnamed: 0</th>\n",
       "      <th>job_desig</th>\n",
       "      <th>key_skills</th>\n",
       "      <th>Avg_Exp</th>\n",
       "      <th>company_name_encoded</th>\n",
       "      <th>City coded</th>\n",
       "      <th>salary</th>\n",
       "    </tr>\n",
       "  </thead>\n",
       "  <tbody>\n",
       "    <tr>\n",
       "      <th>0</th>\n",
       "      <td>0</td>\n",
       "      <td>technology senior consultantjava j2ee sever ap...</td>\n",
       "      <td>java j2ee tomcat jboss weblogic oracle elastic...</td>\n",
       "      <td>9</td>\n",
       "      <td>2066</td>\n",
       "      <td>bengaluru</td>\n",
       "      <td>16.93</td>\n",
       "    </tr>\n",
       "    <tr>\n",
       "      <th>1</th>\n",
       "      <td>1</td>\n",
       "      <td>medical billing process  international kpo  in...</td>\n",
       "      <td>medical billing insurance processing</td>\n",
       "      <td>2</td>\n",
       "      <td>2629</td>\n",
       "      <td>ahmedabad</td>\n",
       "      <td>5.71</td>\n",
       "    </tr>\n",
       "    <tr>\n",
       "      <th>2</th>\n",
       "      <td>2</td>\n",
       "      <td>oracle sales cloud functional consult</td>\n",
       "      <td>oracle sales functional consultancy troublesho...</td>\n",
       "      <td>4</td>\n",
       "      <td>2448</td>\n",
       "      <td>bengaluru</td>\n",
       "      <td>8.96</td>\n",
       "    </tr>\n",
       "    <tr>\n",
       "      <th>3</th>\n",
       "      <td>3</td>\n",
       "      <td>looking freshers want work u</td>\n",
       "      <td>offline online internet part time home base wo...</td>\n",
       "      <td>1</td>\n",
       "      <td>2711</td>\n",
       "      <td>metro</td>\n",
       "      <td>4.22</td>\n",
       "    </tr>\n",
       "    <tr>\n",
       "      <th>4</th>\n",
       "      <td>4</td>\n",
       "      <td>process associate  sr process associate  tech ...</td>\n",
       "      <td>voice support analytical skills process associ...</td>\n",
       "      <td>2</td>\n",
       "      <td>40</td>\n",
       "      <td>hyderabad</td>\n",
       "      <td>5.15</td>\n",
       "    </tr>\n",
       "  </tbody>\n",
       "</table>\n",
       "</div>"
      ],
      "text/plain": [
       "   Unnamed: 0                                          job_desig  \\\n",
       "0           0  technology senior consultantjava j2ee sever ap...   \n",
       "1           1  medical billing process  international kpo  in...   \n",
       "2           2              oracle sales cloud functional consult   \n",
       "3           3                       looking freshers want work u   \n",
       "4           4  process associate  sr process associate  tech ...   \n",
       "\n",
       "                                          key_skills  Avg_Exp  \\\n",
       "0  java j2ee tomcat jboss weblogic oracle elastic...        9   \n",
       "1               medical billing insurance processing        2   \n",
       "2  oracle sales functional consultancy troublesho...        4   \n",
       "3  offline online internet part time home base wo...        1   \n",
       "4  voice support analytical skills process associ...        2   \n",
       "\n",
       "   company_name_encoded City coded  salary  \n",
       "0                  2066  bengaluru   16.93  \n",
       "1                  2629  ahmedabad    5.71  \n",
       "2                  2448  bengaluru    8.96  \n",
       "3                  2711      metro    4.22  \n",
       "4                    40  hyderabad    5.15  "
      ]
     },
     "execution_count": 99,
     "metadata": {},
     "output_type": "execute_result"
    }
   ],
   "source": [
    "trial.head()"
   ]
  },
  {
   "cell_type": "code",
   "execution_count": null,
   "metadata": {},
   "outputs": [],
   "source": []
  },
  {
   "cell_type": "code",
   "execution_count": null,
   "metadata": {},
   "outputs": [],
   "source": []
  }
 ],
 "metadata": {
  "kernelspec": {
   "display_name": "Python 3",
   "language": "python",
   "name": "python3"
  },
  "language_info": {
   "codemirror_mode": {
    "name": "ipython",
    "version": 3
   },
   "file_extension": ".py",
   "mimetype": "text/x-python",
   "name": "python",
   "nbconvert_exporter": "python",
   "pygments_lexer": "ipython3",
   "version": "3.7.1"
  }
 },
 "nbformat": 4,
 "nbformat_minor": 2
}
